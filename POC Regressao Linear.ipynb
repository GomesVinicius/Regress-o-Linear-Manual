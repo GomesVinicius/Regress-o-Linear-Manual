{
 "cells": [
  {
   "cell_type": "code",
   "execution_count": 1,
   "id": "e3a1c0bf-041d-4829-997b-09148740d9ad",
   "metadata": {},
   "outputs": [],
   "source": [
    "import numpy as np"
   ]
  },
  {
   "cell_type": "code",
   "execution_count": 2,
   "id": "f9c68343-bd34-48f5-a5f3-5cf7281db209",
   "metadata": {},
   "outputs": [],
   "source": [
    "y = np.array([10, 50, 100, 200, 70])"
   ]
  },
  {
   "cell_type": "code",
   "execution_count": 3,
   "id": "7bec184b-0bf6-4c45-a5dc-a5f95bd3bd97",
   "metadata": {},
   "outputs": [],
   "source": [
    "X = np.array([\n",
    "    [30,  7, 1, 1.50],\n",
    "    [40, 10, 0, 1.60],\n",
    "    [50, 20, 1, 1.70],\n",
    "    [60, 12, 0, 1.80],\n",
    "    [25, 10, 1, 1.65]\n",
    "])"
   ]
  },
  {
   "cell_type": "code",
   "execution_count": 4,
   "id": "3486b7ae-f12d-4473-94d1-951a203319b6",
   "metadata": {},
   "outputs": [
    {
     "data": {
      "text/plain": [
       "array([[30.  ,  7.  ,  1.  ,  1.5 ],\n",
       "       [40.  , 10.  ,  0.  ,  1.6 ],\n",
       "       [50.  , 20.  ,  1.  ,  1.7 ],\n",
       "       [60.  , 12.  ,  0.  ,  1.8 ],\n",
       "       [25.  , 10.  ,  1.  ,  1.65]])"
      ]
     },
     "execution_count": 4,
     "metadata": {},
     "output_type": "execute_result"
    }
   ],
   "source": [
    "X"
   ]
  },
  {
   "cell_type": "code",
   "execution_count": 5,
   "id": "c1692314-6a69-49ed-9ab1-409587488117",
   "metadata": {},
   "outputs": [
    {
     "data": {
      "text/plain": [
       "array([  3.6245864 ,  -0.16192052, -16.79784575, -29.73133514])"
      ]
     },
     "execution_count": 5,
     "metadata": {},
     "output_type": "execute_result"
    }
   ],
   "source": [
    "#betas = np.linalg.inv(X.T.dot(X)).dot(X.T).dot(y)\n",
    "#betas"
   ]
  },
  {
   "cell_type": "code",
   "execution_count": 6,
   "id": "1217bbaa-e836-4954-a8c4-6013757cf55f",
   "metadata": {},
   "outputs": [],
   "source": [
    "def fit(X, y):\n",
    "    X = np.c_[np.ones(X.shape[0]), X]\n",
    "    betas = np.linalg.inv(X.T.dot(X)).dot(X.T).dot(y)\n",
    "\n",
    "    intercept = betas[0]\n",
    "    coef = betas[1:]\n",
    "\n",
    "    return intercept, coef"
   ]
  },
  {
   "cell_type": "code",
   "execution_count": 7,
   "id": "6120ec70-2c9b-49dd-8c62-2cbcdd8cbda6",
   "metadata": {},
   "outputs": [
    {
     "data": {
      "text/plain": [
       "array([[30.  , 40.  , 50.  , 60.  , 25.  ],\n",
       "       [ 7.  , 10.  , 20.  , 12.  , 10.  ],\n",
       "       [ 1.  ,  0.  ,  1.  ,  0.  ,  1.  ],\n",
       "       [ 1.5 ,  1.6 ,  1.7 ,  1.8 ,  1.65]])"
      ]
     },
     "execution_count": 7,
     "metadata": {},
     "output_type": "execute_result"
    }
   ],
   "source": [
    "X.T"
   ]
  },
  {
   "cell_type": "code",
   "execution_count": 8,
   "id": "1c162d07-02ef-4b64-9d10-8e0dff7d248c",
   "metadata": {},
   "outputs": [
    {
     "data": {
      "text/plain": [
       "array([[9.22500e+03, 2.58000e+03, 1.05000e+02, 3.43250e+02],\n",
       "       [2.58000e+03, 7.93000e+02, 3.70000e+01, 9.86000e+01],\n",
       "       [1.05000e+02, 3.70000e+01, 3.00000e+00, 4.85000e+00],\n",
       "       [3.43250e+02, 9.86000e+01, 4.85000e+00, 1.36625e+01]])"
      ]
     },
     "execution_count": 8,
     "metadata": {},
     "output_type": "execute_result"
    }
   ],
   "source": [
    "X.T.dot(X)"
   ]
  },
  {
   "cell_type": "code",
   "execution_count": 9,
   "id": "ed3a60ed-c025-4310-bb12-cc1d1c621046",
   "metadata": {},
   "outputs": [
    {
     "data": {
      "text/plain": [
       "array([2.09087927e+08, 5.88849833e+07, 2.42417142e+06, 7.79546458e+06])"
      ]
     },
     "execution_count": 9,
     "metadata": {},
     "output_type": "execute_result"
    }
   ],
   "source": [
    "((X.T.dot(X)).dot(X.T)).dot(y)"
   ]
  },
  {
   "cell_type": "code",
   "execution_count": 10,
   "id": "926435a4-7212-4770-b350-270dec72ac4d",
   "metadata": {},
   "outputs": [],
   "source": [
    "alfa, betas = fit(X, y)"
   ]
  },
  {
   "cell_type": "code",
   "execution_count": 11,
   "id": "c2ca1867-6936-4b2c-bc05-7fe5fcef7596",
   "metadata": {},
   "outputs": [
    {
     "data": {
      "text/plain": [
       "(-916.818181818112,\n",
       " array([  2.21590909,  -5.45454545,  24.09090909, 582.95454545]))"
      ]
     },
     "execution_count": 11,
     "metadata": {},
     "output_type": "execute_result"
    }
   ],
   "source": [
    "alfa, betas"
   ]
  },
  {
   "cell_type": "code",
   "execution_count": 12,
   "id": "34141e8d-8b82-46ed-ab4f-20474d0a2f9d",
   "metadata": {},
   "outputs": [],
   "source": [
    "def predict(X):\n",
    "    Xb = np.c_[ np.ones(X.shape[0]), X]\n",
    "\n",
    "    return Xb.dot( np.r_[alfa, betas] )"
   ]
  },
  {
   "cell_type": "code",
   "execution_count": 13,
   "id": "131fbf2e-78f2-48fe-b7a0-aa5ecbece5a0",
   "metadata": {},
   "outputs": [
    {
     "name": "stdout",
     "output_type": "stream",
     "text": [
      "[ 10  50 100 200  70]\n"
     ]
    },
    {
     "data": {
      "text/plain": [
       "array([ 10.,  50., 100., 200.,  70.])"
      ]
     },
     "execution_count": 13,
     "metadata": {},
     "output_type": "execute_result"
    }
   ],
   "source": [
    "print(y)\n",
    "predict(X)"
   ]
  },
  {
   "cell_type": "code",
   "execution_count": 14,
   "id": "8e1be522-3476-4c5b-81a2-de97f9f59747",
   "metadata": {},
   "outputs": [
    {
     "data": {
      "text/plain": [
       "array([32.15909091])"
      ]
     },
     "execution_count": 14,
     "metadata": {},
     "output_type": "execute_result"
    }
   ],
   "source": [
    "prever = np.array([[40,  7, 1, 1.50]])\n",
    "predict(prever)"
   ]
  }
 ],
 "metadata": {
  "kernelspec": {
   "display_name": "Python 3 (ipykernel)",
   "language": "python",
   "name": "python3"
  },
  "language_info": {
   "codemirror_mode": {
    "name": "ipython",
    "version": 3
   },
   "file_extension": ".py",
   "mimetype": "text/x-python",
   "name": "python",
   "nbconvert_exporter": "python",
   "pygments_lexer": "ipython3",
   "version": "3.12.5"
  }
 },
 "nbformat": 4,
 "nbformat_minor": 5
}
